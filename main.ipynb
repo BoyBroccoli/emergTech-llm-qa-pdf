{
 "cells": [
  {
   "cell_type": "markdown",
   "metadata": {},
   "source": [
    "resource[https://medium.com/@alinaeem_57283/building-a-pdf-querying-bot-with-langchain-edb71ebedcc]"
   ]
  },
  {
   "cell_type": "code",
   "execution_count": 4,
   "metadata": {},
   "outputs": [
    {
     "name": "stdout",
     "output_type": "stream",
     "text": [
      "imports complete\n"
     ]
    }
   ],
   "source": [
    "import os\n",
    "import json\n",
    "from langchain import HuggingFaceHub\n",
    "\n",
    "print(\"imports complete\")"
   ]
  },
  {
   "cell_type": "code",
   "execution_count": 7,
   "metadata": {},
   "outputs": [
    {
     "name": "stdout",
     "output_type": "stream",
     "text": [
      "environment set\n"
     ]
    }
   ],
   "source": [
    "try:\n",
    "    # read in json file and store hugging face key\n",
    "    with open(\"./keys/keys.json\") as f:\n",
    "        hug_token = json.load(f)[\"huggingface_token\"]\n",
    "        os.environ[\"HUGGINGFACEHUB_API_TOKEN\"] = hug_token\n",
    "        print(\"environment set\")\n",
    "except Exception as e:\n",
    "    print(e)\n",
    "    print(\"token not set\")"
   ]
  },
  {
   "cell_type": "code",
   "execution_count": 9,
   "metadata": {},
   "outputs": [
    {
     "name": "stderr",
     "output_type": "stream",
     "text": [
      "c:\\Users\\Savag\\.conda\\envs\\nscc_env\\Lib\\site-packages\\huggingface_hub\\utils\\_deprecation.py:127: FutureWarning: '__init__' (from 'huggingface_hub.inference_api') is deprecated and will be removed from version '1.0'. `InferenceApi` client is deprecated in favor of the more feature-complete `InferenceClient`. Check out this guide to learn how to convert your script to use it: https://huggingface.co/docs/huggingface_hub/guides/inference#legacy-inferenceapi-client.\n",
      "  warnings.warn(warning_message, FutureWarning)\n"
     ]
    }
   ],
   "source": [
    "# get the BLOOm Model from HuggingFace\n",
    "llm = HuggingFaceHub(repo_id=\"bigscience/bloom\",\n",
    "                     model_kwargs={\"temperature\":0.1,\n",
    "                                   \"max_length\":100})"
   ]
  },
  {
   "cell_type": "markdown",
   "metadata": {},
   "source": [
    "# Text Splitter"
   ]
  },
  {
   "cell_type": "code",
   "execution_count": 10,
   "metadata": {},
   "outputs": [
    {
     "name": "stdout",
     "output_type": "stream",
     "text": [
      "imports complete\n"
     ]
    }
   ],
   "source": [
    "from langchain.document_loaders import PyPDFLoader\n",
    "from langchain.text_splitter import CharacterTextSplitter\n",
    "\n",
    "print(\"imports complete\")"
   ]
  },
  {
   "cell_type": "code",
   "execution_count": 17,
   "metadata": {},
   "outputs": [],
   "source": [
    "# loading in document\n",
    "pdf_path = \"./docs/albert_einstein_relativity.pdf\"\n",
    "loader = PyPDFLoader(pdf_path)\n",
    "doc = loader.load()\n",
    "\n",
    "# split the doc into chunks\n",
    "text_splitter = CharacterTextSplitter(chunk_size=1000, chunk_overlap=0)\n",
    "texts = text_splitter.split_documents(doc)"
   ]
  },
  {
   "cell_type": "markdown",
   "metadata": {},
   "source": [
    "# Embeddings\n",
    "* translating the chunk of texts to series of numbers (embeddings)\n",
    "* using a pre-trained model for generating the embeddings\n",
    "* resource:[\"https://pub.aimind.so/llm-embeddings-explained-simply-f7536d3d0e4b\"]"
   ]
  },
  {
   "cell_type": "code",
   "execution_count": 23,
   "metadata": {},
   "outputs": [
    {
     "name": "stdout",
     "output_type": "stream",
     "text": [
      "imports complete\n"
     ]
    }
   ],
   "source": [
    "# selecting the embedding \n",
    "from langchain.embeddings import HuggingFaceEmbeddings\n",
    "print(\"imports complete\")"
   ]
  },
  {
   "cell_type": "code",
   "execution_count": 24,
   "metadata": {},
   "outputs": [],
   "source": [
    "embeddings = HuggingFaceEmbeddings(model_name = \"sentence-transformers/all-mpnet-base-v2\")"
   ]
  },
  {
   "cell_type": "markdown",
   "metadata": {},
   "source": [
    "# Vector DB\n",
    "* resource:[\"https://www.pinecone.io/learn/vector-database/\"]"
   ]
  },
  {
   "cell_type": "code",
   "execution_count": 30,
   "metadata": {},
   "outputs": [],
   "source": [
    "from langchain.vectorstores import Chroma"
   ]
  },
  {
   "cell_type": "code",
   "execution_count": 31,
   "metadata": {},
   "outputs": [],
   "source": [
    "# create the vectorestore to use index\n",
    "db = Chroma.from_documents(texts, embeddings)"
   ]
  },
  {
   "cell_type": "code",
   "execution_count": 64,
   "metadata": {},
   "outputs": [],
   "source": [
    "# expose the index in a retriever obj/instance\n",
    "from langchain.chains import RetrievalQA\n",
    "\n",
    "try:\n",
    "    retriever = db.as_retriever(search_type=\"similarity\",\n",
    "                                search_kwargs={\"k\": 3} \n",
    "                                )\n",
    "except Exception as e:\n",
    "    print(\"error: \", e)\n",
    "    \n",
    "    \n",
    "try:\n",
    "    # Initialize RetrievalQA with the required parameters\n",
    "    # Note: return_scores is removed as it's not a valid parameter\n",
    "    qa = RetrievalQA.from_chain_type(\n",
    "        llm=llm,\n",
    "        chain_type=\"stuff\",\n",
    "        retriever=retriever,\n",
    "        return_source_documents=True\n",
    "    )\n",
    "except Exception as e:\n",
    "    # Print any error that occurs during the initialization\n",
    "    print(\"error: \", e)"
   ]
  },
  {
   "cell_type": "code",
   "execution_count": 69,
   "metadata": {},
   "outputs": [
    {
     "name": "stdout",
     "output_type": "stream",
     "text": [
      "An error occurred:  (ProtocolError('Connection aborted.', RemoteDisconnected('Remote end closed connection without response')), '(Request ID: 38563f94-80e1-4725-bb77-d4482160f515)')\n"
     ]
    }
   ],
   "source": [
    "try:\n",
    "    # ask a question\n",
    "    question = \"what is relativity?\"\n",
    "    answers = qa({\"query\":question})\n",
    "\n",
    "    # print the type and value of answers\n",
    "    # print(type(answers))\n",
    "    # print(answers.keys())\n",
    "    print(answers[\"query\"])\n",
    "    \n",
    "    print(answers[\"result\"])    \n",
    "    \n",
    "    #print(answers)\n",
    "except Exception as e:\n",
    "    # Print any error that occurs during the execution\n",
    "    print(\"An error occurred: \", e)"
   ]
  },
  {
   "cell_type": "code",
   "execution_count": null,
   "metadata": {},
   "outputs": [],
   "source": []
  }
 ],
 "metadata": {
  "kernelspec": {
   "display_name": "nscc_env",
   "language": "python",
   "name": "python3"
  },
  "language_info": {
   "codemirror_mode": {
    "name": "ipython",
    "version": 3
   },
   "file_extension": ".py",
   "mimetype": "text/x-python",
   "name": "python",
   "nbconvert_exporter": "python",
   "pygments_lexer": "ipython3",
   "version": "3.11.5"
  }
 },
 "nbformat": 4,
 "nbformat_minor": 2
}
